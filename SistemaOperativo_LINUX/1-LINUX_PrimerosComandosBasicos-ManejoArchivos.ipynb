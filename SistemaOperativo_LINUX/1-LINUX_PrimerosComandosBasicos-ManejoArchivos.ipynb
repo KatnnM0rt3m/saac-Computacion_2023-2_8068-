{
 "cells": [
  {
   "cell_type": "markdown",
   "metadata": {},
   "source": [
    "# Introducción a las herramientas del cómputo científico.\n",
    "\n",
    "Sergio A. Alcalá Corona <br>\n",
    "Sergio A. Sánchez Chávez\n",
    "\n",
    "---\n",
    "---"
   ]
  },
  {
   "cell_type": "markdown",
   "metadata": {},
   "source": [
    "## SISTEMA OPERATIVO LINUX\n",
    "\n",
    "### Elementos básicos de una cuenta de Linux y Primeros comandos \n",
    "\n",
    "A continuacón expondremos algunos de los comados más basicos de linux.\n",
    "Trata de probarlos en la terminal, del Jupyter Lab. \n",
    "\n",
    "---\n"
   ]
  },
  {
   "cell_type": "markdown",
   "metadata": {},
   "source": [
    "#### Elementos básicos de una cuenta de usuario\n",
    "\n",
    "Así como una cuenta de correo, una cuenta en Linux está basada en un **_usuario_** y un **_password_**, ésta se complementa con el nombre de la maquina (o servidor) y en su caso con el dominio en el cual se encuentra alojada dicha cuenta.\n",
    "\n",
    "El _usuario_ es el identificador dentro de la maquina, dicho nombre de usuario es único, es decir, no puede haber dos cuentas en el servidor con el mismo usuario ya que éste es el nombre con que se conoce a la persona dentro del servidor.\n",
    "\n",
    "<b>usuario@hp.fciencias.unam.mx</b>\n",
    "\n",
    "Aquí la cuenta de usuario se encuentra en el equipo llamado _hp_ que se localiza en la dependencia _Facultad de Ciencias_ que pertenece a la institución UNAM la cual se encuentra en México.\n",
    "\n",
    "El _password_ es la clave de acceso al sistema, sólo debe conocerla el dueño de la cuenta ya que permite el acceso a la maquina, a todos sus servicios disponibles y a la información del usuario.\n",
    "\n",
    "Cuando el sistema nos pide la contraseña y nosotros la tecleamos, **ésta no es impresa en el monitor por seguridad** para evitar que sea vista por otra persona.\n",
    "\n",
    "---"
   ]
  },
  {
   "cell_type": "markdown",
   "metadata": {},
   "source": [
    "__*whoami*__, me permite saber con que usuario estoy conectado dentro del equipo."
   ]
  },
  {
   "cell_type": "code",
   "execution_count": 1,
   "metadata": {},
   "outputs": [
    {
     "name": "stdout",
     "output_type": "stream",
     "text": [
      "sergio\n"
     ]
    }
   ],
   "source": [
    "whoami"
   ]
  },
  {
   "cell_type": "markdown",
   "metadata": {},
   "source": [
    "__*date*__ muestra la hora del sistema."
   ]
  },
  {
   "cell_type": "code",
   "execution_count": 2,
   "metadata": {},
   "outputs": [
    {
     "name": "stdout",
     "output_type": "stream",
     "text": [
      "Thu 18 Aug 2022 02:51:29 PM CDT\n"
     ]
    }
   ],
   "source": [
    "date"
   ]
  },
  {
   "cell_type": "markdown",
   "metadata": {},
   "source": [
    "__*cal*__ <br>\n",
    "el sistema cuenta con un calendario el cual\n",
    "comprende desde el año 1 hasta el año 9999, por\n",
    "default el comando cal nos va a entregar el\n",
    "calendario del mes en curso."
   ]
  },
  {
   "cell_type": "code",
   "execution_count": 3,
   "metadata": {},
   "outputs": [
    {
     "name": "stdout",
     "output_type": "stream",
     "text": [
      "    August 2022       \n",
      "Su Mo Tu We Th Fr Sa  \n",
      "    1  2  3  4  5  6  \n",
      " 7  8  9 10 11 12 13  \n",
      "14 15 16 17 \u001b[7m18\u001b[27m 19 20  \n",
      "21 22 23 24 25 26 27  \n",
      "28 29 30 31           \n",
      "                      \n"
     ]
    }
   ],
   "source": [
    "cal"
   ]
  },
  {
   "cell_type": "markdown",
   "metadata": {},
   "source": [
    "__*cal 2005*__ <br>\n",
    "nos mostrará el calendario del año 2005\n",
    "\n",
    "__*cal 6 1975*__ <br>\n",
    " nos mostrará el calendario del sexto mes del año 1975\n",
    " \n",
    "Prueba con tu mes y año de nacimiento para saber en que día de la semana naciste ..."
   ]
  },
  {
   "cell_type": "code",
   "execution_count": null,
   "metadata": {},
   "outputs": [],
   "source": []
  },
  {
   "cell_type": "markdown",
   "metadata": {},
   "source": [
    "__*cal -y*__ <br> \n",
    "mostrará el calendario del año en curso.\n",
    "\n",
    "__*cal -j 2005*__ <br> \n",
    "nos mostrará la numeración de los 365 días del año 2005 en lugar de desplegarnos la numeración de cada uno de los meses.\n",
    "\n",
    "\n",
    "__*cal 9 1752*__ <br> \n",
    "Aquí se observará que falta la numeración entre los días 2 y 14 de Septiembre de 1752, esto es debido a que el Papa Gregorio XIII decretó en el año 1582 que se debían ajustar todos los calendarios debido al ajuste de los años bisiestos.\n",
    "\n",
    "Pruebalos ..."
   ]
  },
  {
   "cell_type": "code",
   "execution_count": 3,
   "metadata": {},
   "outputs": [
    {
     "name": "stdout",
     "output_type": "stream",
     "text": [
      "                            2020\n",
      "      January               February               March          \n",
      "Su Mo Tu We Th Fr Sa  Su Mo Tu We Th Fr Sa  Su Mo Tu We Th Fr Sa  \n",
      "          1  2  3  4                     1   1  2  3  4  5  6  7  \n",
      " 5  6  7  8  9 10 11   2  3  4  5  6  7  8   8  9 10 11 12 13 14  \n",
      "12 13 14 15 16 17 18   9 10 11 12 13 14 15  15 16 17 18 19 20 21  \n",
      "19 20 21 22 23 24 25  16 17 18 19 20 21 22  22 23 24 25 26 27 28  \n",
      "26 27 28 29 30 31     23 24 25 26 27 28 29  29 30 31              \n",
      "                                                                  \n",
      "\n",
      "       April                  May                   June          \n",
      "Su Mo Tu We Th Fr Sa  Su Mo Tu We Th Fr Sa  Su Mo Tu We Th Fr Sa  \n",
      "          1  2  3  4                  1  2      1  2  3  4  5  6  \n",
      " 5  6  7  8  9 10 11   3  4  5  6  7  8  9   7  8  9 10 11 12 13  \n",
      "12 13 14 15 16 17 18  10 11 12 13 14 15 16  14 15 16 17 18 19 20  \n",
      "19 20 21 22 23 24 25  17 18 19 20 21 22 23  21 22 23 24 25 26 27  \n",
      "26 27 28 29 30        24 25 26 27 28 29 30  28 29 30              \n",
      "                      31                                          \n",
      "\n",
      "        July                 August              September        \n",
      "Su Mo Tu We Th Fr Sa  Su Mo Tu We Th Fr Sa  Su Mo Tu We Th Fr Sa  \n",
      "          1  2  3  4                     1         1  2  3  4  5  \n",
      " 5  6  7  8  9 10 11   2  3  4  5  6  7  8   6  7  8  9 10 11 12  \n",
      "12 13 14 15 16 17 18   9 10 11 12 13 14 15  13 14 15 16 17 18 19  \n",
      "19 20 21 22 23 24 25  16 17 18 19 20 21 22  20 21 22 23 24 25 26  \n",
      "26 27 28 29 30 31     23 24 25 26 27 28 29  27 28 29 30           \n",
      "                      30 31                                       \n",
      "\n",
      "      October               November              December        \n",
      "Su Mo Tu We Th Fr Sa  Su Mo Tu We Th Fr Sa  Su Mo Tu We Th Fr Sa  \n",
      "             1  2  3   1  2  3  4  5  6  7         1  2  3  4  5  \n",
      " 4  5  6  7 \u001b[7m 8\u001b[27m  9 10   8  9 10 11 12 13 14   6  7  8  9 10 11 12  \n",
      "11 12 13 14 15 16 17  15 16 17 18 19 20 21  13 14 15 16 17 18 19  \n",
      "18 19 20 21 22 23 24  22 23 24 25 26 27 28  20 21 22 23 24 25 26  \n",
      "25 26 27 28 29 30 31  29 30                 27 28 29 30 31        \n",
      "                                                                  \n"
     ]
    }
   ],
   "source": [
    "cal -y"
   ]
  },
  {
   "cell_type": "code",
   "execution_count": 4,
   "metadata": {},
   "outputs": [
    {
     "name": "stdout",
     "output_type": "stream",
     "text": [
      "   September 1752     \n",
      "Su Mo Tu We Th Fr Sa  \n",
      "       1  2 14 15 16  \n",
      "17 18 19 20 21 22 23  \n",
      "24 25 26 27 28 29 30  \n",
      "                      \n",
      "                      \n",
      "                      \n"
     ]
    }
   ],
   "source": [
    "cal 9 1752"
   ]
  },
  {
   "cell_type": "code",
   "execution_count": null,
   "metadata": {},
   "outputs": [],
   "source": []
  },
  {
   "cell_type": "markdown",
   "metadata": {},
   "source": [
    "#### Estructura básica de los comandos. <br><br>\n",
    "\n",
    "**comando _-opciones_ argumento1 argumento2 ..** <br>\n",
    "\n",
    "La estructura de los comandos es muy rígida y generalmente siguen la misma sintaxis, es decir, siempre se escribe primero el comando, en seguida las opciones, si se requieren y al final los argumentos necesarios.Las opciones modifican el funcionamiento de un comando, generalmente se utilizan para agregar información a la salida de un comando o aumentar el potencial del uno a ejecutar.\n",
    "\n",
    "Las **opciones** no son necesarias para la ejecución del comando, siempre son antecedidas de un guión y se puede utilizar más de una opción.\n",
    "\n",
    "Los **argumentos** son requisito para la ejecución del comando, si no damos el argumento apropiado para la ejecución del comando, éste no se ejecutará y mandará un mensaje de error el sistema.\n",
    "\n",
    "---"
   ]
  },
  {
   "cell_type": "markdown",
   "metadata": {},
   "source": [
    "#### Versión de Linux\n",
    "\n",
    "**_uname_**\n",
    "Nos indica el tipo de LINUX que se esta utilizando.\n",
    "\n",
    "**_-n_** Indica el nombre del equipo\n",
    "\n",
    "**_-r_** Muestra la versión del kernel\n",
    "\n",
    "**_-m_** Indica la arquitectura del procesador\n",
    "\n",
    "**_-a_** Muestra todos los datos antes mencionado\n",
    "\n",
    "Pruebalo ..."
   ]
  },
  {
   "cell_type": "code",
   "execution_count": 6,
   "metadata": {},
   "outputs": [
    {
     "name": "stdout",
     "output_type": "stream",
     "text": [
      "chicagoua\n"
     ]
    }
   ],
   "source": [
    "uname -n"
   ]
  },
  {
   "cell_type": "code",
   "execution_count": 1,
   "metadata": {},
   "outputs": [
    {
     "name": "stdout",
     "output_type": "stream",
     "text": [
      "chicagoua 5.3.0-7648-generic x86_64\n"
     ]
    }
   ],
   "source": [
    "uname -nrm"
   ]
  },
  {
   "cell_type": "code",
   "execution_count": 3,
   "metadata": {},
   "outputs": [
    {
     "name": "stdout",
     "output_type": "stream",
     "text": [
      "Linux chicagoua 5.3.0-7648-generic #41~1586790036~18.04~600aeb5-Ubuntu SMP Mon Apr 13 17:47:15 UTC  x86_64 x86_64 x86_64 GNU/Linux\n"
     ]
    }
   ],
   "source": [
    "uname -a"
   ]
  },
  {
   "cell_type": "code",
   "execution_count": null,
   "metadata": {},
   "outputs": [],
   "source": []
  },
  {
   "cell_type": "markdown",
   "metadata": {},
   "source": [
    "Cómo interpretar los números de las versiones:\n",
    "\n",
    "Las versiones del kernel se numeran con 3 números, de la siguiente forma: XX.YY.ZZ\n",
    "\n",
    "**XX**: Indica la serie principal del kernel. Hasta el momento llega al numero 5. Este número cambia cuando la manera de funcionamiento del kernel ha sufrido\n",
    "un cambio muy importante.\n",
    "\n",
    "**YY**: Indica si la versión es de desarrollo o de producción. Un número impar, significa que es de desarrollo, uno par, que es de producción.\n",
    "\n",
    "**ZZ**: Indica nuevas revisiones dentro de una versión, en las que lo único que se ha modificado, son fallos de\n",
    "programación/bugs."
   ]
  },
  {
   "cell_type": "code",
   "execution_count": null,
   "metadata": {},
   "outputs": [],
   "source": []
  },
  {
   "cell_type": "markdown",
   "metadata": {},
   "source": [
    "## Comandos de Sistema de Archivos.\n",
    "\n",
    "A continuacón expondremos el sistema de archivos de linux y cómo manejara y manipular archivos \n",
    "Además de probar los comados aqui, hazo en la terminal del Jupyter Lab. \n",
    "\n",
    "---\n"
   ]
  },
  {
   "cell_type": "markdown",
   "metadata": {},
   "source": [
    "#### Sistema de archivos\n",
    "\n",
    "LINUX esta compuesto de un sistema de archivos jerárquico en el cual no existen unidades de disco, en su lugar cada unidad de almacenamiento así como cada dispositivo de hardware, son reconocidos como un archivo o directorio dentro del sistema.\n",
    "\n",
    "Existe sólo una raíz en el sistema, la cual representa la parte más alta de la estructura de directorios y es conocida como root o raíz, es representada por el símbolo de **/** a partir de este punto se desprenden diferentes ramas de directorios como las siguientes:\n",
    "\n",
    "#### Directorios principales:\n",
    "\n",
    "**_/_**   Raíz del sistema <br> <br>\n",
    "\n",
    "_/var_ &nbsp; &nbsp; Variables del sistema <br>\n",
    "_/var/log_ &nbsp; &nbsp; Bitácoras del sistema <br>\n",
    "_/dev_  &nbsp; &nbsp; Dispositivos de hardware <br>\n",
    "_/etc_  &nbsp; &nbsp; Archivos de configuración del sistema <br>\n",
    "_/home_ &nbsp; &nbsp; Directorios de los usuarios <br>\n",
    "_/bin_  &nbsp; &nbsp; &nbsp; &nbsp; &nbsp; Comandos del sistema <br>\n",
    "_/sbin_ &nbsp; &nbsp; &nbsp; &nbsp; &nbsp; Comandos del sistema <br>\n",
    "_/boot_ &nbsp; &nbsp; &nbsp; &nbsp; &nbsp;  Archivos de inicio del sistema <br>\n",
    "_/mnt_  &nbsp; &nbsp; &nbsp; &nbsp; &nbsp; Dispositivos montados <br>\n",
    "\n",
    "---"
   ]
  },
  {
   "cell_type": "markdown",
   "metadata": {},
   "source": [
    "## Manejo de directorios (carpetas)"
   ]
  },
  {
   "cell_type": "markdown",
   "metadata": {},
   "source": [
    "#### **_pwd_** (Print Working Directory)\n",
    "\n",
    "Este comando imprime en pantalla el directorio actual de trabajo, es decir, donde nos encontramos posicionados dentro del sistema de directorios indicándonos la ruta absoluta."
   ]
  },
  {
   "cell_type": "code",
   "execution_count": 5,
   "metadata": {},
   "outputs": [
    {
     "name": "stdout",
     "output_type": "stream",
     "text": [
      "/home/sergio/Dropbox/CursoComputacion2020/CURSO/Computacion2020-8093/SistemaOperativo_LINUX\n"
     ]
    }
   ],
   "source": [
    "pwd"
   ]
  },
  {
   "cell_type": "code",
   "execution_count": null,
   "metadata": {},
   "outputs": [],
   "source": []
  },
  {
   "cell_type": "markdown",
   "metadata": {},
   "source": [
    "#### **_ls_** (list)\n",
    "\n",
    "Muestra un listado del contenido del directorio actual de trabajo, este comando tiene varias opciones, entre las más relevantes se encuentran las siguientes:\n",
    "\n",
    "**-`l`** Muestra un listado con formato largo indicando todas las propiedades de los archivos y directorios del directorio actual de trabajo.\n",
    "\n",
    "**-`a`** Muestra todo el contenido del directorio, incluyendo los archivos y directorios ocultos.\n",
    "\n",
    "**-`r`** Muestra el listado en orden inverso alfabético.\n",
    "\n",
    "**-`R`**  Muestra un listado en forma recursiva, es decir lista el contenido de directorios y subdirectorios a partir de la ruta donde le indiquemos.\n",
    "\n",
    "**-`t`**  Muestra un listado tomando como opción la fecha de modificación del archivo o directorio.\n",
    "\n",
    "**-`i`**  Muestra el listado con el inodo donde se encuentra almacenado el archivo en el disco.\n",
    "\n",
    "Prueba algunas opciones ..."
   ]
  },
  {
   "cell_type": "code",
   "execution_count": null,
   "metadata": {},
   "outputs": [],
   "source": []
  },
  {
   "cell_type": "code",
   "execution_count": null,
   "metadata": {},
   "outputs": [],
   "source": []
  },
  {
   "cell_type": "code",
   "execution_count": null,
   "metadata": {},
   "outputs": [],
   "source": []
  },
  {
   "cell_type": "code",
   "execution_count": null,
   "metadata": {},
   "outputs": [],
   "source": []
  },
  {
   "cell_type": "markdown",
   "metadata": {},
   "source": [
    "### Comodines _**`*, ?`**_\n",
    "\n",
    "Existen dos caracteres llamados comodines los cuales pueden sustituir un carácter o conjunto de caracteres durante la ejecución de comandos, Ej: \n",
    "\n",
    "`ls ??a` Muestra aquellos archivos y directorios los cuales tengan el nombre de tres letras y la\n",
    "tercera sea la letra _**a**_\n",
    "\n",
    "`ls *u*t*` Muestra aquellos archivos y directorios los cuales tengan en el nombre una _**y**_  y una _**t**_ en cualquier posición pero en el orden que se le indica."
   ]
  },
  {
   "cell_type": "code",
   "execution_count": null,
   "metadata": {},
   "outputs": [],
   "source": []
  },
  {
   "cell_type": "code",
   "execution_count": null,
   "metadata": {},
   "outputs": [],
   "source": []
  },
  {
   "cell_type": "markdown",
   "metadata": {},
   "source": [
    "#### **_cd_** (Change Directory)\n",
    "\n",
    "Este comando nos permite movernos entre directorios, es necesario que le indiquemos la ruta del directorio al que nos queremos cambiar.\n",
    "\n",
    "`cd dir1/dir2/dir3` \n",
    "\n",
    "Pruebalo ..."
   ]
  },
  {
   "cell_type": "code",
   "execution_count": null,
   "metadata": {},
   "outputs": [],
   "source": []
  },
  {
   "cell_type": "code",
   "execution_count": null,
   "metadata": {},
   "outputs": [],
   "source": [
    "cd /"
   ]
  },
  {
   "cell_type": "code",
   "execution_count": null,
   "metadata": {},
   "outputs": [],
   "source": [
    "cd "
   ]
  },
  {
   "cell_type": "code",
   "execution_count": null,
   "metadata": {},
   "outputs": [],
   "source": [
    "cd /mnt/c/Users/Sergio/Documentos/"
   ]
  },
  {
   "cell_type": "code",
   "execution_count": null,
   "metadata": {},
   "outputs": [],
   "source": []
  },
  {
   "cell_type": "markdown",
   "metadata": {},
   "source": [
    "### Rutas absolutas y relativas\n",
    "\n",
    "Las **_rutas absolutas_** siempre inician con el símbolo de **_`/`_** que indica el punto más alto de la estructura de directorios, a partir de aquí se debe de poner la ruta completa para llegar al punto que se quiera afectar.\n",
    "\n",
    "`cd /home` \n",
    "\n",
    "`cd /var/spool/mail` \n",
    "\n",
    "`cd /` \n",
    "\n",
    "\n",
    "\n",
    "Es posible utilizar rutas absolutas o rutas relativas según sea nuestra conveniencia.\n",
    "\n",
    "Prueba algunas rutas ..."
   ]
  },
  {
   "cell_type": "code",
   "execution_count": null,
   "metadata": {},
   "outputs": [],
   "source": []
  },
  {
   "cell_type": "code",
   "execution_count": null,
   "metadata": {},
   "outputs": [],
   "source": []
  },
  {
   "cell_type": "code",
   "execution_count": null,
   "metadata": {},
   "outputs": [],
   "source": []
  },
  {
   "cell_type": "code",
   "execution_count": null,
   "metadata": {},
   "outputs": [],
   "source": []
  },
  {
   "cell_type": "markdown",
   "metadata": {},
   "source": [
    "Las rutas relativas nunca inician con el símbolo de raíz **_`/`_** en lugar de ello inician la ruta a partir del directorio actual de trabajo. Por ejemplo:\n",
    "\n",
    "`cd Escritorio`\n",
    "\n",
    "`cd images`\n",
    "\n",
    "`cd images/fotos`\n",
    "\n",
    "Prueba ..."
   ]
  },
  {
   "cell_type": "code",
   "execution_count": null,
   "metadata": {},
   "outputs": [],
   "source": []
  },
  {
   "cell_type": "markdown",
   "metadata": {},
   "source": [
    "Podemos regresar a nuestro directroio **_`home/`_**  también usando:\n",
    "\n",
    "`cd`"
   ]
  },
  {
   "cell_type": "code",
   "execution_count": null,
   "metadata": {},
   "outputs": [],
   "source": [
    "cd"
   ]
  },
  {
   "cell_type": "code",
   "execution_count": null,
   "metadata": {},
   "outputs": [],
   "source": []
  },
  {
   "cell_type": "markdown",
   "metadata": {},
   "source": [
    "Supongamos que se encuentra en su directorio **_`home/`_** ,   y quiere regresar dos directorios hacia arriba para posicionarnos en la raíz del sistema:"
   ]
  },
  {
   "cell_type": "code",
   "execution_count": null,
   "metadata": {},
   "outputs": [],
   "source": [
    "cd ../.."
   ]
  },
  {
   "cell_type": "code",
   "execution_count": null,
   "metadata": {},
   "outputs": [],
   "source": []
  },
  {
   "cell_type": "code",
   "execution_count": null,
   "metadata": {},
   "outputs": [],
   "source": []
  },
  {
   "cell_type": "markdown",
   "metadata": {},
   "source": [
    "Es muy importante tener en cuenta que en general:\n",
    "\n",
    "`.` es el directorio actual\n",
    "\n",
    "`..` es el directorio padre\n",
    "\n"
   ]
  },
  {
   "cell_type": "code",
   "execution_count": null,
   "metadata": {},
   "outputs": [],
   "source": []
  },
  {
   "cell_type": "code",
   "execution_count": null,
   "metadata": {},
   "outputs": [],
   "source": []
  },
  {
   "cell_type": "markdown",
   "metadata": {},
   "source": [
    "#### **_mkdir_**  (Make Directory)\n",
    "\n",
    "Este comando nos permite crear directorios, es posible crear varios directorios en la misma línea de comando escribiendo uno a continuación de otro separados por un espacio.\n",
    "\n",
    "`mkdir tareas` \n",
    "\n",
    "`mkdir examen ejercicios` \n",
    "\n",
    "Prueba crear algunos directorios ..."
   ]
  },
  {
   "cell_type": "code",
   "execution_count": null,
   "metadata": {},
   "outputs": [],
   "source": []
  },
  {
   "cell_type": "code",
   "execution_count": null,
   "metadata": {},
   "outputs": [],
   "source": []
  },
  {
   "cell_type": "markdown",
   "metadata": {},
   "source": [
    "##### **Opciones**\n",
    "\n",
    "**-`p`** \n",
    "\n",
    "Crea todos los directorios padres inexistentes, es decir, primero busca la rama de directorios y si no la encuentra la crea.\n"
   ]
  },
  {
   "cell_type": "code",
   "execution_count": null,
   "metadata": {},
   "outputs": [],
   "source": [
    "mkdir -p archivos/musica/rock"
   ]
  },
  {
   "cell_type": "code",
   "execution_count": null,
   "metadata": {},
   "outputs": [],
   "source": []
  },
  {
   "cell_type": "markdown",
   "metadata": {},
   "source": [
    "**-`v`** \n",
    "\n",
    "Informa sobre la creación de directorios.\n"
   ]
  },
  {
   "cell_type": "code",
   "execution_count": null,
   "metadata": {},
   "outputs": [],
   "source": [
    "mkdir -pv archivos/fotos/facebook/upload"
   ]
  },
  {
   "cell_type": "code",
   "execution_count": null,
   "metadata": {},
   "outputs": [],
   "source": []
  },
  {
   "cell_type": "code",
   "execution_count": null,
   "metadata": {},
   "outputs": [],
   "source": []
  },
  {
   "cell_type": "markdown",
   "metadata": {},
   "source": [
    "#### **_rmdir_**  (Remove Directory)\n",
    "\n",
    "Este comando borra directorios, la única condición que debe cumplir es que se encuentre vacío el directorio a ser borrado.\n",
    "\n",
    "`rmdir nom_directorio` \n",
    "\n",
    "`rmdir examen` \n",
    "\n",
    "Pruebalo ...\n"
   ]
  },
  {
   "cell_type": "code",
   "execution_count": null,
   "metadata": {},
   "outputs": [],
   "source": []
  },
  {
   "cell_type": "code",
   "execution_count": null,
   "metadata": {},
   "outputs": [],
   "source": []
  },
  {
   "cell_type": "markdown",
   "metadata": {},
   "source": [
    "### Caracteres Especiales\n",
    "\n",
    "UNIX maneja varios caracteres especiales, cada uno de ellos realiza una función en específico, en casiones pueden ser combinados para aumentar el potencial del comando en ejecución o para redireccionamiento, se recomienda que estos caracteres no se utilicen al nombrar archivos o directorios.\n",
    "\n",
    "Estos caracteres son:\n",
    "\n",
    "` ; , < > | >> ^ $ & / ~ \\ [ ] ‘ “ ( ) . * `"
   ]
  },
  {
   "cell_type": "markdown",
   "metadata": {},
   "source": [
    "En Linux “todo es un programa”, incluso los comandos. Estos se encuentran por lo general en\n",
    "los directorios llamados “bin”.\n",
    "\n",
    "` whereis`  o ` which`  me indican la “ruta” donde se encuentra el comando (programa/aplicación).\n",
    "\n",
    "\n",
    "\n"
   ]
  },
  {
   "cell_type": "code",
   "execution_count": null,
   "metadata": {},
   "outputs": [],
   "source": [
    "whereis pwd"
   ]
  },
  {
   "cell_type": "code",
   "execution_count": null,
   "metadata": {},
   "outputs": [],
   "source": [
    "which ls"
   ]
  },
  {
   "cell_type": "code",
   "execution_count": null,
   "metadata": {},
   "outputs": [],
   "source": []
  },
  {
   "cell_type": "markdown",
   "metadata": {},
   "source": [
    "Podemos escribir un comando utilizando:\n",
    "\n",
    "- su nombre\n",
    "- la ruta absoluta (/bin/pwd /etc/passwd )\n",
    "- la ruta relativa (utilizando \".\" o \"..\" en general para los programas o scripts que no se encuentran en\n",
    "PATH)"
   ]
  },
  {
   "cell_type": "code",
   "execution_count": null,
   "metadata": {},
   "outputs": [],
   "source": []
  },
  {
   "cell_type": "markdown",
   "metadata": {},
   "source": [
    "## Manejo de archivos"
   ]
  },
  {
   "cell_type": "markdown",
   "metadata": {},
   "source": [
    "#### **_touch_**\n",
    "\n",
    "Este comando nos permite crear archivos vacíos, de tamaño 0 bytes.\n",
    "\n",
    "Pruebalo ..."
   ]
  },
  {
   "cell_type": "code",
   "execution_count": null,
   "metadata": {},
   "outputs": [],
   "source": [
    "touch prueba"
   ]
  },
  {
   "cell_type": "code",
   "execution_count": null,
   "metadata": {},
   "outputs": [],
   "source": []
  },
  {
   "cell_type": "markdown",
   "metadata": {},
   "source": [
    "#### **_mv_**  (move)\n",
    " \n",
    "El comando mv tiene dos funciones básicas, la primera es mover archivos o estructuras de directorios de un lugar a\n",
    "otro, la segunda es renombrar archivos o directorios.\n",
    "\n",
    "`mv saludo carta/` \n",
    "\n",
    "Aquí se esta moviendo el archivo saludo dentro del directorio carta.\n",
    "\n",
    "`mv saludo hola` \n",
    "\n",
    "Aquí se está cambiando el nombre del archivo saludo, ahora se llamará hola.\n",
    "\n",
    "Haz algunas pruebas ..."
   ]
  },
  {
   "cell_type": "code",
   "execution_count": null,
   "metadata": {},
   "outputs": [],
   "source": []
  },
  {
   "cell_type": "code",
   "execution_count": null,
   "metadata": {},
   "outputs": [],
   "source": []
  },
  {
   "cell_type": "code",
   "execution_count": null,
   "metadata": {},
   "outputs": [],
   "source": []
  },
  {
   "cell_type": "markdown",
   "metadata": {},
   "source": [
    "#### **_cp_** (copy)\n",
    " \n",
    "El comando cp nos permite hacer copias de archivos uno por uno, múltiples archivos o incluso hacer copias\n",
    "de estructuras de directorios.\n",
    "\n",
    "`cp ruta_origen ruta_destino`"
   ]
  },
  {
   "cell_type": "code",
   "execution_count": null,
   "metadata": {},
   "outputs": [],
   "source": []
  },
  {
   "cell_type": "code",
   "execution_count": null,
   "metadata": {},
   "outputs": [],
   "source": []
  },
  {
   "cell_type": "markdown",
   "metadata": {},
   "source": [
    "Ejemplos:\n",
    "\n",
    "`cp prueba prueba.res` \n",
    "\n",
    "\n",
    "Aquí se esta haciendo una copia del archivo llamado prueba a otro archivo el cual se llamará prueba.res\n",
    "\n",
    "`cp arch1 arch2 arch3 arch4 /ruta_destino` \n",
    "\n",
    "\n",
    "Aquí se esta haciendo una copia de múltiples archivos del directorio actual a una ruta destino enumerando uno a uno.\n",
    "\n",
    "`cp /dev/*.res .` \n",
    "\n",
    "\n",
    "Aquí se esta haciendo una copia de todos los archivos que terminen en .res dentro del directorio actual de trabajo.\n",
    "\n",
    "`cp -r informe respaldo` \n",
    "\n",
    "Aquí se esta haciendo una copia recursiva del directorio  informe dentro del directorio respaldo.\n",
    "\n",
    "\n",
    "Pruebalo ..."
   ]
  },
  {
   "cell_type": "code",
   "execution_count": null,
   "metadata": {},
   "outputs": [],
   "source": []
  },
  {
   "cell_type": "code",
   "execution_count": null,
   "metadata": {},
   "outputs": [],
   "source": []
  },
  {
   "cell_type": "code",
   "execution_count": null,
   "metadata": {},
   "outputs": [],
   "source": []
  },
  {
   "cell_type": "code",
   "execution_count": null,
   "metadata": {},
   "outputs": [],
   "source": []
  },
  {
   "cell_type": "markdown",
   "metadata": {},
   "source": [
    "La opción **–i** indica al sistema que realice una copia interactiva de tal forma que si se esta copiando un archivo con un nombre de un archivo que ya existe, el sistema pedirá confirmación para sobrescribir el archivo existente.\n",
    "\n",
    "`cp –i * respaldo/`\n",
    "\n",
    "La opción **–v** nos va informando del nombre de los archivos a los cuales se les esta haciendo la copia.\n",
    "\n",
    "`cp –v * respaldo/`\n",
    "\n",
    "Pruebalas ...\n"
   ]
  },
  {
   "cell_type": "code",
   "execution_count": null,
   "metadata": {},
   "outputs": [],
   "source": []
  },
  {
   "cell_type": "code",
   "execution_count": null,
   "metadata": {},
   "outputs": [],
   "source": []
  },
  {
   "cell_type": "code",
   "execution_count": null,
   "metadata": {},
   "outputs": [],
   "source": []
  },
  {
   "cell_type": "markdown",
   "metadata": {},
   "source": [
    "#### **_rm_** (Remove)\n",
    "\n",
    "El comando rm borra archivos, por ejemplo:\n",
    "\n",
    "`rm saludo`\n",
    "\n",
    "También puede ser borrado un solo archivo o varios haciendo uso de los metacaracteres _**`*, ?`**_\n",
    "\n",
    "Ejemplos:\n",
    "\n",
    "`rm lo*`\n",
    "\n",
    "`rm pr??ba`\n",
    "\n",
    "Haz unas pruebas ..."
   ]
  },
  {
   "cell_type": "code",
   "execution_count": null,
   "metadata": {},
   "outputs": [],
   "source": []
  },
  {
   "cell_type": "code",
   "execution_count": null,
   "metadata": {},
   "outputs": [],
   "source": []
  },
  {
   "cell_type": "code",
   "execution_count": null,
   "metadata": {},
   "outputs": [],
   "source": [
    "\n"
   ]
  },
  {
   "cell_type": "markdown",
   "metadata": {},
   "source": [
    "La opción **–r** hace un borrado en forma recursiva, esta opción es de mucho cuidado ya que se borrará el\n",
    "directorio especificado y todo su contenido.\n",
    "\n",
    "`rm –r directorio`\n",
    "\n",
    "La opción **–f** fuerza a que los elementos sean borrados aunque nosotros no tengamos permisos sobre ellos.\n",
    "\n",
    "`rm –f *`\n",
    "\n",
    "Pruebalas ..."
   ]
  },
  {
   "cell_type": "code",
   "execution_count": null,
   "metadata": {},
   "outputs": [],
   "source": []
  },
  {
   "cell_type": "code",
   "execution_count": null,
   "metadata": {},
   "outputs": [],
   "source": []
  },
  {
   "cell_type": "markdown",
   "metadata": {},
   "source": [
    "#### **_tree_** \n",
    "\n",
    "Éste comando nos permite ver el contenido de un directorio en forma de árbol\n",
    "\n",
    "`tree .`\n",
    "\n",
    "`tree /`\n",
    "\n",
    "`tree /home/usuario`\n",
    "\n",
    "Pruebalo ..."
   ]
  },
  {
   "cell_type": "code",
   "execution_count": null,
   "metadata": {},
   "outputs": [],
   "source": []
  },
  {
   "cell_type": "code",
   "execution_count": null,
   "metadata": {},
   "outputs": [],
   "source": []
  },
  {
   "cell_type": "code",
   "execution_count": null,
   "metadata": {},
   "outputs": [],
   "source": []
  },
  {
   "cell_type": "markdown",
   "metadata": {},
   "source": [
    "## Salida del sistema\n",
    "\n",
    "Es necesario indicarle al sistema que queremos terminar la sesión de trabajo en el equipo, para ello existen varios comandos, entre ellos se encuentran los comandos `exit` y `logout` o la combinación de teclas \n",
    "\n",
    "`Ctrl+d`\n",
    "\n",
    "Ambos comandos nos permiten terminar la sesión, al momento que lo tecleamos y presionamos enterse cierra la sesión en el equipo."
   ]
  },
  {
   "cell_type": "markdown",
   "metadata": {},
   "source": [
    "### Cambio de contraseña\n",
    "\n",
    "`passwd`\n",
    "\n",
    "Éste comando nos permite realizar el cambio de contraseña de una cuenta, para poder realizar el cambio necesitamos saber la contraseña actual de la cuenta ya que por seguridad el sistema nos pedirá que insertemos dicha contraseña para a continuación teclear la nueva contraseña dos veces para verificar que haya sido escrita correctamente.\n"
   ]
  },
  {
   "cell_type": "code",
   "execution_count": null,
   "metadata": {},
   "outputs": [],
   "source": []
  },
  {
   "cell_type": "code",
   "execution_count": null,
   "metadata": {},
   "outputs": [],
   "source": []
  },
  {
   "cell_type": "code",
   "execution_count": null,
   "metadata": {},
   "outputs": [],
   "source": []
  }
 ],
 "metadata": {
  "kernelspec": {
   "display_name": "Bash",
   "language": "bash",
   "name": "bash"
  },
  "language_info": {
   "codemirror_mode": "shell",
   "file_extension": ".sh",
   "mimetype": "text/x-sh",
   "name": "bash"
  }
 },
 "nbformat": 4,
 "nbformat_minor": 2
}
